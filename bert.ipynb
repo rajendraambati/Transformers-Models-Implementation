{
  "nbformat": 4,
  "nbformat_minor": 0,
  "metadata": {
    "colab": {
      "provenance": [],
      "authorship_tag": "ABX9TyOtjBGtLLbs5o5BIyYBKuYV",
      "include_colab_link": true
    },
    "kernelspec": {
      "name": "python3",
      "display_name": "Python 3"
    },
    "language_info": {
      "name": "python"
    },
    "accelerator": "TPU"
  },
  "cells": [
    {
      "cell_type": "markdown",
      "metadata": {
        "id": "view-in-github",
        "colab_type": "text"
      },
      "source": [
        "<a href=\"https://colab.research.google.com/github/rajendraambati/Transformers-Models-Implementation/blob/main/bert.ipynb\" target=\"_parent\"><img src=\"https://colab.research.google.com/assets/colab-badge.svg\" alt=\"Open In Colab\"/></a>"
      ]
    },
    {
      "cell_type": "code",
      "execution_count": 11,
      "metadata": {
        "id": "iJxURVyk1lH9"
      },
      "outputs": [],
      "source": [
        "from transformers import BertTokenizer, BertModel"
      ]
    },
    {
      "cell_type": "code",
      "source": [
        "checkpoint='bert-base-uncased'"
      ],
      "metadata": {
        "id": "0Tspm9B_3sz8"
      },
      "execution_count": 12,
      "outputs": []
    },
    {
      "cell_type": "code",
      "source": [
        "tokenizer=BertTokenizer.from_pretrained(checkpoint)"
      ],
      "metadata": {
        "id": "9_BoxyRa3x9l"
      },
      "execution_count": 13,
      "outputs": []
    },
    {
      "cell_type": "code",
      "source": [
        "model=BertModel.from_pretrained(checkpoint)"
      ],
      "metadata": {
        "id": "S6eA9Xcx33yV"
      },
      "execution_count": 14,
      "outputs": []
    },
    {
      "cell_type": "code",
      "source": [
        "text='Hello! This is NYU'"
      ],
      "metadata": {
        "id": "B1x83S2y4e4d"
      },
      "execution_count": 15,
      "outputs": []
    },
    {
      "cell_type": "code",
      "source": [
        "tokens=tokenizer.tokenize(text)"
      ],
      "metadata": {
        "id": "itAOX7844USm"
      },
      "execution_count": 17,
      "outputs": []
    },
    {
      "cell_type": "code",
      "source": [
        "ids=tokenizer.encode(tokens, add_special_tokens=True,return_tensors='pt')"
      ],
      "metadata": {
        "id": "TdtQLY-l4kpC"
      },
      "execution_count": 22,
      "outputs": []
    },
    {
      "cell_type": "code",
      "source": [
        "import torch\n",
        "with torch.no_grad():\n",
        "  output=model(ids)"
      ],
      "metadata": {
        "id": "S4W_T7Ox41Cl"
      },
      "execution_count": 23,
      "outputs": []
    },
    {
      "cell_type": "code",
      "source": [
        "out=output.last_hidden_state"
      ],
      "metadata": {
        "id": "SSOFecz549hK"
      },
      "execution_count": 25,
      "outputs": []
    },
    {
      "cell_type": "code",
      "source": [
        "out"
      ],
      "metadata": {
        "colab": {
          "base_uri": "https://localhost:8080/"
        },
        "id": "gqIE-naC5WL3",
        "outputId": "d377260d-4409-40cd-9748-b5bd9b907947"
      },
      "execution_count": 26,
      "outputs": [
        {
          "output_type": "execute_result",
          "data": {
            "text/plain": [
              "tensor([[[ 0.2017,  0.1830, -0.1400,  ..., -0.3258,  0.2312,  0.5941],\n",
              "         [ 0.0091, -0.1721, -0.0523,  ..., -0.1263,  0.5997,  0.0913],\n",
              "         [-0.0848,  0.0354, -0.3311,  ...,  0.1046,  0.5062,  0.5629],\n",
              "         ...,\n",
              "         [ 0.1950,  0.3653,  0.7266,  ..., -0.4243, -0.0143,  0.9301],\n",
              "         [-0.3945, -0.5706, -0.7247,  ...,  0.6752,  0.2085, -0.0097],\n",
              "         [ 0.8357,  0.0556, -0.3662,  ...,  0.0906, -0.7022, -0.2317]]])"
            ]
          },
          "metadata": {},
          "execution_count": 26
        }
      ]
    },
    {
      "cell_type": "code",
      "source": [],
      "metadata": {
        "id": "C5CcjiEm5bSg"
      },
      "execution_count": null,
      "outputs": []
    }
  ]
}